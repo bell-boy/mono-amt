{
 "cells": [
  {
   "cell_type": "markdown",
   "metadata": {},
   "source": [
    "# Monophonic AMT\n",
    "\n",
    "following the paper [AN END-TO-END FRAMEWORK FOR AUDIO-TO-SCORE MUSIC\n",
    "TRANSCRIPTION ON MONOPHONIC EXCERPTS\n",
    "](https://ismir2018.ismir.net/doc/pdfs/87_Paper.pdf)\n"
   ]
  },
  {
   "cell_type": "code",
   "execution_count": 8,
   "metadata": {},
   "outputs": [],
   "source": [
    "import torch \n",
    "import pandas as pd\n",
    "import librosa\n",
    "import numpy as np\n",
    "import json"
   ]
  },
  {
   "cell_type": "code",
   "execution_count": 55,
   "metadata": {},
   "outputs": [],
   "source": [
    "batch_size = 25\n",
    "d_vocab = 54"
   ]
  },
  {
   "cell_type": "code",
   "execution_count": 140,
   "metadata": {},
   "outputs": [],
   "source": [
    "class InciptDataset(torch.utils.data.Dataset):\n",
    "    def __init__(self, size):\n",
    "        self.size = size\n",
    "        self.tok_to_char = {\n",
    "            0: \"BOS\",\n",
    "            1: \" \",\n",
    "            2: \"G2\",\n",
    "            3: \"F4\",\n",
    "            4: \"C1\",\n",
    "            5: \"C3\",\n",
    "            6: \"C4\",\n",
    "            7: \"DbM\",\n",
    "            8: \"AbM\",\n",
    "            9: \"EbM\",\n",
    "            10: \"BbM\",\n",
    "            11: \"FM\",\n",
    "            12: \"CM\",\n",
    "            13: \"GM\",\n",
    "            14: \"DM\",\n",
    "            15: \"AM\",\n",
    "            16: \"EM\",\n",
    "            17: \"BM\",\n",
    "            18: \"A\",\n",
    "            19: \"B\",\n",
    "            20: \"C\",\n",
    "            21: \"D\",\n",
    "            22: \"E\",\n",
    "            23: \"F\",\n",
    "            24: \"G\",\n",
    "            25: \"b\",\n",
    "            26: \"#\",\n",
    "            27: \"Rest\",\n",
    "            28: \"2\",\n",
    "            29: \"3\",\n",
    "            30: \"4\",\n",
    "            31: \"5\",\n",
    "            32: \"6\",\n",
    "            33: \"whole_note\",\n",
    "            34: \"half_note\",\n",
    "            35: \"quater_note\",\n",
    "            36: \"eighth_note\",\n",
    "            37: \"sixteenth_note\",\n",
    "            38: \"thirtysecond_note\",\n",
    "            39: \".\",\n",
    "            40: \"Tie\",\n",
    "            41: \"4/4\",\n",
    "            42: \"2/2\",\n",
    "            43: \"3/4\",\n",
    "            44: \"2/4\",\n",
    "            45: \"6/8\",\n",
    "            46: \"3/8\",\n",
    "            47: \"3/2\",\n",
    "            48: \"12/8\",\n",
    "            49: \"6/4\",\n",
    "            50: \"4/2\",\n",
    "            51: \"9/8\",\n",
    "            52: \"/\",\n",
    "            53: \"EOS\"\n",
    "        }\n",
    "        self.char_to_tok = {v: k for k, v in self.tok_to_char.items()}\n",
    "   \n",
    "    def __len__(self):\n",
    "        return self.size\n",
    "    \n",
    "    def __getitem__(self, idx):\n",
    "        y, sr = librosa.load(f\"data/audiofiles/{idx}.wav\", sr=16_000)\n",
    "        return np.abs(librosa.stft(y=y, n_fft=2047, window=\"hamming\"))\n",
    "\n",
    "    def convert_to_tokens(self, incipit):\n",
    "        incipit = json.loads(incipit)\n",
    "        result = torch.tensor([self.get_clef(incipit[\"clef\"]),\n",
    "                               self.get_keysig(incipit[\"keysig\"]),\n",
    "                               self.get_timesig(incipit[\"timesig\"])])\n",
    "\n",
    "        #music_subseq = get_incipit_data(incipit[\"data\"])\n",
    "        return result\n",
    "    \n",
    "    def get_clef(self, clef):\n",
    "        match clef:\n",
    "            case 'G-2':\n",
    "                return char_to_tok[\"G2\"]\n",
    "            case 'F-4':\n",
    "                return char_to_tok[\"F4\"]\n",
    "            case 'C-1':\n",
    "                return char_to_tok[\"C1\"]\n",
    "            case 'C-3':\n",
    "                return char_to_tok[\"C3\"]\n",
    "            case 'C-4':\n",
    "                return char_to_tok[\"C4\"]\n",
    "\n",
    "    def get_keysig(self, keysig):\n",
    "        match len(keysig):\n",
    "            case 0:\n",
    "                return char_to_tok[\"CM\"]\n",
    "            case 2:\n",
    "                if keysig[0] == \"b\":\n",
    "                    return char_to_tok[\"FM\"]\n",
    "                else:\n",
    "                    return char_to_tok[\"GM\"]\n",
    "            case 3:\n",
    "                if keysig[0] == \"b\":\n",
    "                    return char_to_tok[\"BM\"]\n",
    "                else:\n",
    "                    return char_to_tok[\"DM\"]\n",
    "            case 4:\n",
    "                if keysig[0] == \"b\":\n",
    "                    return char_to_tok[\"EbM\"]\n",
    "                else:\n",
    "                    return char_to_tok[\"AM\"]\n",
    "            case 5:\n",
    "                if keysig[0] == \"b\":\n",
    "                    return char_to_tok[\"AbM\"]\n",
    "                else:\n",
    "                    return char_to_tok[\"EM\"]\n",
    "            case 6:\n",
    "                if keysig[0] == \"b\":\n",
    "                    return char_to_tok[\"Db\"]\n",
    "                else:\n",
    "                    return char_to_tok[\"BM\"]\n",
    "\n",
    "    def get_timesig(self, timesig):\n",
    "        if timesig == \"c\":\n",
    "            return char_to_tok[\"4/4\"]\n",
    "        elif timesig == \"c/\":\n",
    "            return char_to_tok[\"2/2\"]\n",
    "        else:\n",
    "            return char_to_tok[timesig]\n",
    "\n",
    "    def get_incipit_data(self, data):\n",
    "        measures = data.split(\"/\")    \n",
    "        result = []\n",
    "        for measure in measures:\n",
    "            ## Check that this isn't a rest measure\n",
    "            state = {\n",
    "                \"octave\": 4,\n",
    "                \"duration\": \"quater_note\",\n",
    "                \"dotted\": False,\n",
    "                \"flat\": False, \n",
    "                \"sharp\": False,\n",
    "            }\n",
    "\n",
    "            for idx, c in enumerate(measure):\n",
    "                if c in {\"A\", \"B\", \"C\", \"D\", \"E\", \"F\", \"G\", \"-\"}:\n",
    "                    result.append(char_to_tok[\" \"])\n",
    "                    result.append(char_to_tok[c])\n",
    "                    result.append(char_to_tok[str(state[\"octave\"])]) \n",
    "                    result.append(char_to_tok[state[\"duration\"]])\n",
    "                    if state[\"dotted\"]:\n",
    "                        result.append(char_to_tok[\".\"])\n",
    "\n",
    "                    state[\"dotted\"] = False\n",
    "                    state[\"flat\"] = False\n",
    "                    state[\"sharp\"] = False\n",
    "\n",
    "                elif c == \".\":\n",
    "                    state[\"dotted\"] = True\n",
    "                elif c == \"b\":\n",
    "                    state[\"flat\"] = True\n",
    "                elif c == \"#\":\n",
    "                    state[\"sharp\"] = True\n",
    "                elif c == \"+\":\n",
    "                    result.append(char_to_tok[\"+\"])\n",
    "\n",
    "                elif c == \"'\":\n",
    "                    if idx != 0 and measure[idx - 1] == \"'\":\n",
    "                        state[\"octave\"] += 1\n",
    "                    else: \n",
    "                        state[\"octave\"] = 4\n",
    "                elif c == \",\":\n",
    "                    if idx != 0 and measure[idx - 1] == \",\":\n",
    "                        state[\"octave\"] -= 3\n",
    "                    else: \n",
    "                        state[\"octave\"] = -1\n",
    "\n",
    "                elif c in {\"1\", \"2\", \"4\", \"8\", \"6\", \"3\"}:\n",
    "                    match c:\n",
    "                        case \"1\":\n",
    "                            state[\"duration\"] = \"whole_note\"\n",
    "                        case \"2\":\n",
    "                            state[\"duration\"] = \"half_note\"\n",
    "                        case \"4\":\n",
    "                            state[\"duration\"] = \"quater_note\"\n",
    "                        case \"8\":\n",
    "                            state[\"duration\"] = \"eighth_note\"\n",
    "                        case \"6\":\n",
    "                            state[\"duration\"] = \"sixteenth_note\"\n",
    "                        case \"3\":\n",
    "                            state[\"duration\"] = \"thirtysecond_note\"    \n",
    "\n",
    "            result.append(char_to_tok[\" \"])\n",
    "            result.append(char_to_tok[\"/\"])\n",
    "    "
   ]
  },
  {
   "cell_type": "code",
   "execution_count": 125,
   "metadata": {},
   "outputs": [],
   "source": [
    "incipits = []\n",
    "with open(\"data/transcripts.txt\", \"r\") as incipts_file:\n",
    "    for line in incipts_file:\n",
    "        incipits.append(line)\n",
    "    "
   ]
  },
  {
   "cell_type": "code",
   "execution_count": 141,
   "metadata": {},
   "outputs": [],
   "source": [
    "dataset = InciptDataset(5000)\n",
    "dataloader = torch.utils.data.DataLoader(dataset, batch_size=batch_size)"
   ]
  },
  {
   "cell_type": "code",
   "execution_count": 56,
   "metadata": {},
   "outputs": [],
   "source": [
    "class Model(torch.nn.Module):\n",
    "    def __init__(self):\n",
    "        super().__init__()\n",
    "        self.conv_block = torch.nn.Sequential(torch.nn.Conv2d(1, 32, (41, 11), (2, 2)),\n",
    "                                         torch.nn.BatchNorm2d(32),\n",
    "                                         torch.nn.Hardtanh(),\n",
    "                                         torch.nn.Conv2d(32, 32, (21, 11), (2, 1)),\n",
    "                                         torch.nn.BatchNorm2d(32),\n",
    "                                         torch.nn.Hardtanh())\n",
    "        self.block_transition = torch.nn.Linear(7552, 512)\n",
    "        self.transformer = torch.nn.Transformer(batch_first=True)\n",
    "        self.unembed = torch.nn.Linear(512, d_vocab)\n",
    "        self.embed = torch.nn.Embedding(d_vocab, self.transformer.d_model)\n",
    "        \n",
    "\n",
    "    def forward(self, spectrogram):\n",
    "        conv_result = self.conv_block(spectrogram).flatten(start_dim=1, end_dim=2).reshape(spectrogram.shape[0], -1, 7552)\n",
    "        transformed_result = self.transformer(self.block_transition(conv_result), self.embed(torch.tensor([[0]])))\n",
    "        return torch.nn.functional.softmax(self.unembed(transformed_result), dim=-1)\n",
    "        "
   ]
  },
  {
   "cell_type": "code",
   "execution_count": 57,
   "metadata": {},
   "outputs": [],
   "source": [
    "model = Model()"
   ]
  },
  {
   "cell_type": "code",
   "execution_count": 147,
   "metadata": {},
   "outputs": [
    {
     "data": {
      "text/plain": [
       "\"=10/'4B8E''EEC/'AA4--/''F8.E6C'8.B6A/8AG4-\""
      ]
     },
     "execution_count": 147,
     "metadata": {},
     "output_type": "execute_result"
    }
   ],
   "source": [
    "dataset.convert_to_tokens(incipits[25])\n",
    "json.loads(incipits[1])[\"data\"]"
   ]
  },
  {
   "cell_type": "code",
   "execution_count": 78,
   "metadata": {},
   "outputs": [
    {
     "data": {
      "text/plain": [
       "'EM'"
      ]
     },
     "execution_count": 78,
     "metadata": {},
     "output_type": "execute_result"
    }
   ],
   "source": [
    "data = torch.tensor(dataset[10].reshape((1, 1, 1024, -1)))\n",
    "tok_to_char[model(data).argmax(dim=-1).item()]"
   ]
  },
  {
   "cell_type": "code",
   "execution_count": 103,
   "metadata": {},
   "outputs": [
    {
     "data": {
      "text/plain": [
       "(1024, 94)"
      ]
     },
     "execution_count": 103,
     "metadata": {},
     "output_type": "execute_result"
    },
    {
     "data": {
      "image/png": "[encoded data removed]",
      "text/plain": [
       "<Figure size 640x480 with 1 Axes>"
      ]
     },
     "metadata": {},
     "output_type": "display_data"
    }
   ],
   "source": [
    "librosa.display.specshow(np.abs(dataset[0]), sr=16_000, hop_length=2047//4)\n",
    "np.abs(dataset[0]).shape"
   ]
  }
 ],
 "metadata": {
  "kernelspec": {
   "display_name": "mono-amt",
   "language": "python",
   "name": "python3"
  },
  "language_info": {
   "codemirror_mode": {
    "name": "ipython",
    "version": 3
   },
   "file_extension": ".py",
   "mimetype": "text/x-python",
   "name": "python",
   "nbconvert_exporter": "python",
   "pygments_lexer": "ipython3",
   "version": "3.11.5"
  }
 },
 "nbformat": 4,
 "nbformat_minor": 2
}
